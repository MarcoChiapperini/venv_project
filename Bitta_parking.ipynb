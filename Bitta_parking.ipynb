{
 "cells": [
  {
   "cell_type": "code",
   "execution_count": 16,
   "metadata": {},
   "outputs": [],
   "source": [
    "from datetime import datetime\n",
    "\n"
   ]
  },
  {
   "cell_type": "code",
   "execution_count": 1,
   "metadata": {},
   "outputs": [],
   "source": [
    "parking = {\"level1\":{\"total_lot\": 10,\n",
    "                    \"taken_lot\": 5},\n",
    "           \"level2\":{\"total_lot\": 20,\n",
    "                    \"taken_lot\": 7},\n",
    "           \"level3\":{\"total_lot\": 39,\n",
    "                    \"taken_lot\": 38},\n",
    "            \"level4\":{\"total_lot\": 50,\n",
    "                    \"taken_lot\": 50},\n",
    "            \"level5\":{\"total_lot\": 5,\n",
    "                    \"taken_lot\": 0}\n",
    "            }"
   ]
  },
  {
   "cell_type": "code",
   "execution_count": null,
   "metadata": {},
   "outputs": [],
   "source": [
    "auto = {\"AX555LM\": {\"entry\": datetime.now(),\n",
    "                    \"level\": \"level1\"},\n",
    "        \"CJ687LI\": {\"entry\": datetime.now(),\n",
    "                    }            \n",
    "\n",
    "            \n",
    "            }        \n"
   ]
  },
  {
   "cell_type": "markdown",
   "metadata": {},
   "source": [
    "## Requisiti:\n",
    "- occupiamo prima i piani inferiori\n",
    "- ultimo piano riservato ai Bitta\n",
    "- i clienti pagano in base alla permanenza una quota proporzionata(50€/h)\n",
    "- sono accettati esclusivamente possessori di Alfa Romeo e Camper\n",
    "\n",
    "\n"
   ]
  },
  {
   "cell_type": "code",
   "execution_count": 3,
   "metadata": {},
   "outputs": [],
   "source": [
    "# Check if the vehicle is an Alfa or a Camper\n",
    "def check_vehicle():\n",
    "    answer = input(\"Is this vehicle an Alfa or a Camper? [Y/N]\").lower()\n",
    "    if answer == \"y\": \n",
    "        return True \n",
    "    elif answer == \"n\":\n",
    "        return False\n",
    "    else:\n",
    "        check_vehicle()\n"
   ]
  },
  {
   "cell_type": "code",
   "execution_count": 4,
   "metadata": {},
   "outputs": [
    {
     "data": {
      "text/plain": [
       "5"
      ]
     },
     "execution_count": 4,
     "metadata": {},
     "output_type": "execute_result"
    }
   ],
   "source": [
    "# Check if the driver is a member of the Bitta's family\n",
    "def is_Bitta():\n",
    "    answer = input(\"Are you a Bitta? [Y/N]\").lower()\n",
    "    if answer == \"y\": \n",
    "        return True \n",
    "    elif answer == \"n\":\n",
    "        return False\n",
    "    else:\n",
    "        is_Bitta()\n",
    "parking[\"level5\"][\"total_lot\"]\n"
   ]
  },
  {
   "cell_type": "code",
   "execution_count": 9,
   "metadata": {},
   "outputs": [],
   "source": [
    "# Check if Bitta's spots are available\n",
    "def check_Bitta_spot_available():\n",
    "    total_lot = parking[\"level5\"][\"total_lot\"]\n",
    "    taken_lot = parking[\"level5\"][\"taken_lot\"]\n",
    "    spot_available = (total_lot - taken_lot) > 0\n",
    "    return spot_available\n"
   ]
  },
  {
   "cell_type": "code",
   "execution_count": 12,
   "metadata": {},
   "outputs": [],
   "source": [
    "# check standard spot available\n",
    "def check_standard_spot_available():\n",
    "    for level, level_info in parking.items():\n",
    "        if level == \"level5\":\n",
    "            break\n",
    "        total_lot = level_info[\"total_lot\"]\n",
    "        taken_lot = level_info[\"taken_lot\"]\n",
    "        spot_available = (total_lot - taken_lot) > 0\n",
    "        if spot_available:\n",
    "            return spot_available, level\n",
    "    return spot_available, level    \n"
   ]
  },
  {
   "cell_type": "code",
   "execution_count": 20,
   "metadata": {},
   "outputs": [],
   "source": [
    "def add_plate():\n",
    "    plate = input(\"insert license plate\").upper()\n",
    "    auto[plate] = [plate] = datetime.now() \n",
    "    "
   ]
  },
  {
   "cell_type": "code",
   "execution_count": null,
   "metadata": {},
   "outputs": [],
   "source": [
    "def add_taken_spot(level):\n",
    "    parking[level][\"taken_lot\"] += 1"
   ]
  },
  {
   "cell_type": "code",
   "execution_count": null,
   "metadata": {},
   "outputs": [],
   "source": [
    "def remove_take_spot(level):"
   ]
  },
  {
   "cell_type": "code",
   "execution_count": 11,
   "metadata": {},
   "outputs": [],
   "source": [
    "check_standard_spot_available()"
   ]
  },
  {
   "cell_type": "code",
   "execution_count": 14,
   "metadata": {},
   "outputs": [
    {
     "ename": "SyntaxError",
     "evalue": "incomplete input (2608152022.py, line 1)",
     "output_type": "error",
     "traceback": [
      "\u001b[0;36m  Cell \u001b[0;32mIn[14], line 1\u001b[0;36m\u001b[0m\n\u001b[0;31m    def assign_level():\u001b[0m\n\u001b[0m                       ^\u001b[0m\n\u001b[0;31mSyntaxError\u001b[0m\u001b[0;31m:\u001b[0m incomplete input\n"
     ]
    }
   ],
   "source": [
    "def assign_level():"
   ]
  }
 ],
 "metadata": {
  "kernelspec": {
   "display_name": ".venv",
   "language": "python",
   "name": "python3"
  },
  "language_info": {
   "codemirror_mode": {
    "name": "ipython",
    "version": 3
   },
   "file_extension": ".py",
   "mimetype": "text/x-python",
   "name": "python",
   "nbconvert_exporter": "python",
   "pygments_lexer": "ipython3",
   "version": "3.12.8"
  }
 },
 "nbformat": 4,
 "nbformat_minor": 2
}
