{
 "cells": [
  {
   "cell_type": "code",
   "execution_count": 9,
   "metadata": {},
   "outputs": [
    {
     "name": "stdout",
     "output_type": "stream",
     "text": [
      "se nni mondo esistesse un po' di bene\n"
     ]
    }
   ],
   "source": [
    "a = \"se nni mondo\"\n",
    "b = \"esistesse un po' di bene\"\n",
    "print(a, b)\n"
   ]
  },
  {
   "cell_type": "code",
   "execution_count": 10,
   "metadata": {},
   "outputs": [],
   "source": [
    "c = \"Hello World!\"\n",
    "d = \"e ognun si honsiderasse\" "
   ]
  },
  {
   "cell_type": "code",
   "execution_count": 11,
   "metadata": {},
   "outputs": [
    {
     "data": {
      "text/plain": [
       "'prima riga di commento\\nseconda riga di commento\\nterza riga '"
      ]
     },
     "execution_count": 11,
     "metadata": {},
     "output_type": "execute_result"
    }
   ],
   "source": [
    "# questo è un commento \n",
    "'''prima riga di commento\n",
    "seconda riga di commento\n",
    "terza riga '''\n"
   ]
  },
  {
   "cell_type": "code",
   "execution_count": 12,
   "metadata": {},
   "outputs": [
    {
     "data": {
      "text/plain": [
       "'Hello World!e ognun si honsiderasse'"
      ]
     },
     "execution_count": 12,
     "metadata": {},
     "output_type": "execute_result"
    }
   ],
   "source": [
    "# Concatenazione di stringhe \n",
    "e = c + d \n",
    "e "
   ]
  },
  {
   "cell_type": "code",
   "execution_count": 13,
   "metadata": {},
   "outputs": [
    {
     "data": {
      "text/plain": [
       "12"
      ]
     },
     "execution_count": 13,
     "metadata": {},
     "output_type": "execute_result"
    }
   ],
   "source": [
    "# Lunghezza \n",
    "len(c)"
   ]
  },
  {
   "cell_type": "code",
   "execution_count": 14,
   "metadata": {},
   "outputs": [
    {
     "data": {
      "text/plain": [
       "'HELLO WORLD!'"
      ]
     },
     "execution_count": 14,
     "metadata": {},
     "output_type": "execute_result"
    }
   ],
   "source": [
    "# Accesso ai metodi \n",
    "c.upper()\n"
   ]
  },
  {
   "cell_type": "code",
   "execution_count": 15,
   "metadata": {},
   "outputs": [
    {
     "name": "stdout",
     "output_type": "stream",
     "text": [
      "['Hello', 'World!']\n",
      "['Hell', ' W', 'rld!']\n",
      "['Hello Wo', 'ld!']\n",
      "['He', 'o World!']\n"
     ]
    }
   ],
   "source": [
    "# Metodi e parametri \n",
    "print(c.split())\n",
    "print(c.split(\"o\"))\n",
    "print(c.split(\"r\"))\n",
    "print(c.split(\"ll\"))"
   ]
  },
  {
   "cell_type": "code",
   "execution_count": 16,
   "metadata": {},
   "outputs": [
    {
     "name": "stdout",
     "output_type": "stream",
     "text": [
      "Hello, my name is Marco, I am 27 and I come from Bari.\n",
      "Hello, my name is Champion Marco, I am 27 and I come from Bari.\n",
      "Hello, my name is Champion Marco, I am 27 and I come from Bari. I am 1.68 tall and I am a hero: True\n",
      "<class 'str'> <class 'str'> <class 'str'> <class 'float'> <class 'bool'>\n"
     ]
    }
   ],
   "source": [
    "name = \"Marco\"\n",
    "\n",
    "age = \"27\" \n",
    "\n",
    "city = \"Bari\" \n",
    "\n",
    "me = (\"Hello, my name is \" + name + \", I am \" + age + \" and I come from \" + city + \".\")\n",
    "\n",
    "print(me)\n",
    "\n",
    "name = \"Champion \" + name \n",
    "\n",
    "myself = (\"Hello, my name is \" + name + \", I am \" + age + \" and I come from \" + city + \".\")\n",
    "\n",
    "print(myself)\n",
    "\n",
    "height = 1.68 \n",
    "\n",
    "is_hero = True \n",
    "\n",
    "and_I = (\"Hello, my name is \" + name + \", I am \" + age + \" and I come from \" + city + \". I am \" + str(height) + \" tall and I am a hero: \" + str(is_hero))\n",
    "\n",
    "print(and_I)\n",
    "\n",
    "print(type(name), type(age), type(city), type(height), type(is_hero))"
   ]
  },
  {
   "cell_type": "code",
   "execution_count": 18,
   "metadata": {},
   "outputs": [
    {
     "name": "stdout",
     "output_type": "stream",
     "text": [
      "enzo il meglio del colos\n"
     ]
    }
   ],
   "source": [
    "name = \"Lorenzo il meglio del colosseo\"\n",
    "print(name[3:-3])"
   ]
  },
  {
   "cell_type": "code",
   "execution_count": 19,
   "metadata": {},
   "outputs": [],
   "source": [
    "def print_last_letter_of(string):\n",
    "    last_letter = string[-1]\n",
    "    print(last_letter)\n"
   ]
  },
  {
   "cell_type": "code",
   "execution_count": 20,
   "metadata": {},
   "outputs": [
    {
     "name": "stdout",
     "output_type": "stream",
     "text": [
      "i\n"
     ]
    }
   ],
   "source": [
    "print_last_letter_of(string = \"come vuoi\")"
   ]
  },
  {
   "cell_type": "code",
   "execution_count": 21,
   "metadata": {},
   "outputs": [
    {
     "name": "stdout",
     "output_type": "stream",
     "text": [
      "e\n"
     ]
    }
   ],
   "source": [
    "print_last_letter_of(\"stringa a mio piacere\")"
   ]
  },
  {
   "cell_type": "code",
   "execution_count": 22,
   "metadata": {},
   "outputs": [
    {
     "name": "stdout",
     "output_type": "stream",
     "text": [
      "o\n"
     ]
    }
   ],
   "source": [
    "var = \"ciao leonardo\"\n",
    "print_last_letter_of(var)"
   ]
  },
  {
   "cell_type": "code",
   "execution_count": 23,
   "metadata": {},
   "outputs": [],
   "source": [
    "def take_a_letter_of(string, index=-1):\n",
    "    letter = string[index]\n",
    "    return letter"
   ]
  },
  {
   "cell_type": "code",
   "execution_count": 24,
   "metadata": {},
   "outputs": [],
   "source": [
    "results = take_a_letter_of(\"ciao\")"
   ]
  },
  {
   "cell_type": "code",
   "execution_count": 25,
   "metadata": {},
   "outputs": [
    {
     "name": "stdout",
     "output_type": "stream",
     "text": [
      "o\n"
     ]
    }
   ],
   "source": [
    "print(results)"
   ]
  },
  {
   "cell_type": "code",
   "execution_count": null,
   "metadata": {},
   "outputs": [],
   "source": [
    "is_eligible = True\n",
    "print(f\"The user is {\"not \" * (not is_eligible)}eligible\")"
   ]
  },
  {
   "cell_type": "markdown",
   "metadata": {},
   "source": [
    "\n",
    "\n",
    "\n"
   ]
  },
  {
   "cell_type": "code",
   "execution_count": 2,
   "metadata": {},
   "outputs": [
    {
     "data": {
      "text/plain": [
       "5.416666666666667"
      ]
     },
     "execution_count": 2,
     "metadata": {},
     "output_type": "execute_result"
    }
   ],
   "source": [
    "# abbiamo 25 frutti di cui 15 banane e 10 mele. le banane costano 3 euro l'una e le mele 2 euro. Abbiamo 12 clienti a cui vogliamo distribuire equamente la nostra frutta. Quale sarà la spesa media dei nostri clienti? \n",
    "\n",
    "num_banane = 15\n",
    "num_mele = 10\n",
    "costo_banane = 3\n",
    "costo_mele = 2\n",
    "num_clienti = 12\n",
    "\n",
    "tot_banane = num_banane * costo_banane\n",
    "tot_mele = num_mele * costo_mele\n",
    "totale_frutta = tot_banane + tot_mele\n",
    "\n",
    "costo_medio = totale_frutta / num_clienti\n",
    "costo_medio "
   ]
  },
  {
   "cell_type": "code",
   "execution_count": 1,
   "metadata": {},
   "outputs": [],
   "source": [
    "def goodbye():\n",
    "  \"\"\"\n",
    "  Stampa \"Arrivederci\" quando il giocatore esce dal gioco.\n",
    "  \"\"\"\n",
    "  print(\"Arrivederci\")\n",
    "\n"
   ]
  },
  {
   "cell_type": "code",
   "execution_count": 2,
   "metadata": {},
   "outputs": [
    {
     "name": "stdout",
     "output_type": "stream",
     "text": [
      "Arrivederci\n"
     ]
    },
    {
     "ename": "",
     "evalue": "",
     "output_type": "error",
     "traceback": [
      "\u001b[1;31mThe Kernel crashed while executing code in the current cell or a previous cell. \n",
      "\u001b[1;31mPlease review the code in the cell(s) to identify a possible cause of the failure. \n",
      "\u001b[1;31mClick <a href='https://aka.ms/vscodeJupyterKernelCrash'>here</a> for more info. \n",
      "\u001b[1;31mView Jupyter <a href='command:jupyter.viewOutput'>log</a> for further details."
     ]
    }
   ],
   "source": [
    "# ... (il resto del tuo codice di gioco)\n",
    "\n",
    "def handle_player_action(action):\n",
    "  if action == \"Esci\":\n",
    "    goodbye()\n",
    "    # Puoi aggiungere altre azioni qui, come salvare il gioco, prima di uscire\n",
    "    exit()\n",
    "  # ... (altri controlli per le altre azioni del giocatore)\n",
    "\n",
    "\n",
    "# Esempio di chiamata\n",
    "handle_player_action(\"Esci\")\n"
   ]
  }
 ],
 "metadata": {
  "kernelspec": {
   "display_name": ".venv",
   "language": "python",
   "name": "python3"
  },
  "language_info": {
   "codemirror_mode": {
    "name": "ipython",
    "version": 3
   },
   "file_extension": ".py",
   "mimetype": "text/x-python",
   "name": "python",
   "nbconvert_exporter": "python",
   "pygments_lexer": "ipython3",
   "version": "3.12.8"
  }
 },
 "nbformat": 4,
 "nbformat_minor": 2
}
